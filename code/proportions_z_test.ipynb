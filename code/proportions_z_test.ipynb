{
 "cells": [
  {
   "cell_type": "code",
   "execution_count": 1,
   "id": "b5ad9df4-b7c9-44da-b8e4-a83c8e2ed8cd",
   "metadata": {},
   "outputs": [],
   "source": [
    "from statsmodels.stats.proportion import proportions_ztest\n",
    "import numpy as np\n",
    "import pandas as pd"
   ]
  },
  {
   "cell_type": "code",
   "execution_count": 2,
   "id": "51289acf-707c-4bd5-9c83-90e30a084923",
   "metadata": {},
   "outputs": [],
   "source": [
    "# to compare campaign A and B we use a z-test of proportions\n",
    "# we will need the # observations and the # of successes\n",
    "# the number of successes is just a count of the people who bought something\n",
    "# we can define the # observations as the count of people who received an email\n",
    "# alternatively we can define # observations as the # of people who OPENED the email \n",
    "# but that will obviously reduce the sample size"
   ]
  },
  {
   "cell_type": "code",
   "execution_count": 3,
   "id": "faf99209-5069-4640-8a8e-28bbda4ed77c",
   "metadata": {},
   "outputs": [],
   "source": [
    "# read the files for both marketing campaigns\n",
    "df_a=pd.read_csv(\"campaign_a.csv\")\n",
    "df_b=pd.read_csv(\"campaign_b.csv\")\n"
   ]
  },
  {
   "cell_type": "code",
   "execution_count": 4,
   "id": "04325ead-cb62-422d-b4a8-67555ac70631",
   "metadata": {},
   "outputs": [
    {
     "data": {
      "text/html": [
       "<div>\n",
       "<style scoped>\n",
       "    .dataframe tbody tr th:only-of-type {\n",
       "        vertical-align: middle;\n",
       "    }\n",
       "\n",
       "    .dataframe tbody tr th {\n",
       "        vertical-align: top;\n",
       "    }\n",
       "\n",
       "    .dataframe thead th {\n",
       "        text-align: right;\n",
       "    }\n",
       "</style>\n",
       "<table border=\"1\" class=\"dataframe\">\n",
       "  <thead>\n",
       "    <tr style=\"text-align: right;\">\n",
       "      <th></th>\n",
       "      <th>campaign</th>\n",
       "      <th>id</th>\n",
       "      <th>opened</th>\n",
       "      <th>clicked</th>\n",
       "      <th>purchased</th>\n",
       "      <th>dollars</th>\n",
       "      <th>unsub</th>\n",
       "    </tr>\n",
       "  </thead>\n",
       "  <tbody>\n",
       "    <tr>\n",
       "      <th>0</th>\n",
       "      <td>A</td>\n",
       "      <td>1016</td>\n",
       "      <td>0</td>\n",
       "      <td>0</td>\n",
       "      <td>0</td>\n",
       "      <td>0</td>\n",
       "      <td>0</td>\n",
       "    </tr>\n",
       "    <tr>\n",
       "      <th>1</th>\n",
       "      <td>A</td>\n",
       "      <td>1019</td>\n",
       "      <td>0</td>\n",
       "      <td>0</td>\n",
       "      <td>0</td>\n",
       "      <td>0</td>\n",
       "      <td>0</td>\n",
       "    </tr>\n",
       "    <tr>\n",
       "      <th>2</th>\n",
       "      <td>A</td>\n",
       "      <td>1037</td>\n",
       "      <td>0</td>\n",
       "      <td>0</td>\n",
       "      <td>0</td>\n",
       "      <td>0</td>\n",
       "      <td>0</td>\n",
       "    </tr>\n",
       "    <tr>\n",
       "      <th>3</th>\n",
       "      <td>A</td>\n",
       "      <td>1043</td>\n",
       "      <td>0</td>\n",
       "      <td>0</td>\n",
       "      <td>0</td>\n",
       "      <td>0</td>\n",
       "      <td>1</td>\n",
       "    </tr>\n",
       "    <tr>\n",
       "      <th>4</th>\n",
       "      <td>A</td>\n",
       "      <td>1058</td>\n",
       "      <td>1</td>\n",
       "      <td>0</td>\n",
       "      <td>0</td>\n",
       "      <td>0</td>\n",
       "      <td>0</td>\n",
       "    </tr>\n",
       "  </tbody>\n",
       "</table>\n",
       "</div>"
      ],
      "text/plain": [
       "  campaign    id  opened  clicked  purchased dollars  unsub\n",
       "0        A  1016       0        0          0       0      0\n",
       "1        A  1019       0        0          0       0      0\n",
       "2        A  1037       0        0          0       0      0\n",
       "3        A  1043       0        0          0       0      1\n",
       "4        A  1058       1        0          0       0      0"
      ]
     },
     "execution_count": 4,
     "metadata": {},
     "output_type": "execute_result"
    }
   ],
   "source": [
    "df_a.head()\n"
   ]
  },
  {
   "cell_type": "code",
   "execution_count": 24,
   "id": "d3bea319-cd74-49a0-9fa0-1f7842011fee",
   "metadata": {},
   "outputs": [],
   "source": [
    "camp_a_observations=df_a.count()[\"id\"]\n",
    "camp_b_observations=df_b.count()[\"id\"]\n",
    "# this determines the number of records (sample size) for both campaigns"
   ]
  },
  {
   "cell_type": "code",
   "execution_count": 25,
   "id": "4153febf-9f50-4ed8-b4e9-631ee18a198e",
   "metadata": {},
   "outputs": [
    {
     "name": "stdout",
     "output_type": "stream",
     "text": [
      "10050 10686\n"
     ]
    }
   ],
   "source": [
    "print (camp_a_observations, camp_b_observations)"
   ]
  },
  {
   "cell_type": "code",
   "execution_count": 45,
   "id": "0a97c818-390a-4b2c-b2a5-27e45f42a8bc",
   "metadata": {},
   "outputs": [
    {
     "name": "stdout",
     "output_type": "stream",
     "text": [
      "65 96\n"
     ]
    }
   ],
   "source": [
    "camp_a_success=df_a[df_a[\"purchased\"]==1].count()[\"id\"]\n",
    "camp_b_success=df_b[df_b[\"purchased\"]==1].count()[\"id\"]\n",
    "# this determines the number of successes for both campaigns\n",
    "print (camp_a_success, camp_b_success)"
   ]
  },
  {
   "cell_type": "code",
   "execution_count": 29,
   "id": "c8d4e8a1-4608-40ff-a34a-a0040619bc1b",
   "metadata": {},
   "outputs": [],
   "source": [
    "significance = 0.05\n",
    "# our alpha value is 5% "
   ]
  },
  {
   "cell_type": "code",
   "execution_count": 46,
   "id": "7917ede1-54bf-4b27-a193-f1763fd941b1",
   "metadata": {},
   "outputs": [],
   "source": [
    "#calculate success and sample sizes\n",
    "sample_success_a, sample_size_a = (camp_a_success, camp_a_observations)   # success = purchase,  numbers of observations (nobs) = sample size\n",
    "sample_success_b, sample_size_b = (camp_b_success, camp_b_observations)   # success = purchase,  numbers of observations (nobs) = sample size\n"
   ]
  },
  {
   "cell_type": "code",
   "execution_count": 47,
   "id": "943ca036-596a-456d-b63b-e551d53f3eef",
   "metadata": {},
   "outputs": [],
   "source": [
    "# put them into np.arrays\n",
    "successes = np.array([sample_success_a, sample_success_b])\n",
    "samples = np.array([sample_size_a, sample_size_b])\n"
   ]
  },
  {
   "cell_type": "code",
   "execution_count": 48,
   "id": "5ecce578-ee3b-407a-be7d-ab54eedc2df2",
   "metadata": {},
   "outputs": [],
   "source": [
    "# use the z test to determine p value for Ha: A < B\n",
    "stat, p_value = proportions_ztest(count=successes, nobs=samples,  alternative='smaller') # H0 is greater than OR equal "
   ]
  },
  {
   "cell_type": "code",
   "execution_count": 49,
   "id": "4843494b-d95b-4bfd-8ae3-7a59ca208f42",
   "metadata": {},
   "outputs": [
    {
     "name": "stdout",
     "output_type": "stream",
     "text": [
      "z_stat: -2.063, p_value: 0.020\n",
      "p is low! THE NULL MUST GO! A is different than B\n"
     ]
    }
   ],
   "source": [
    "\n",
    "print('z_stat: %0.3f, p_value: %0.3f' % (stat, p_value))\n",
    "if p_value > significance:\n",
    "   print (\"p is not low.  Campaigns A and B were not different \")\n",
    "else:\n",
    "   print (\"p is low! THE NULL MUST GO! A is different than B\")"
   ]
  },
  {
   "cell_type": "code",
   "execution_count": 12,
   "id": "ab582dc4-95b7-4af4-8750-4341262edd2e",
   "metadata": {},
   "outputs": [],
   "source": [
    "# suppose instead we defined our # observations as the # of people who OPENED the email"
   ]
  },
  {
   "cell_type": "code",
   "execution_count": 50,
   "id": "7245d971-3f79-48de-8b33-c4acef867dcd",
   "metadata": {},
   "outputs": [],
   "source": [
    "camp_a_opened=df_a[df_a[\"opened\"]>0].count()[\"id\"]\n",
    "camp_b_opened=df_b[df_b[\"opened\"]>0].count()[\"id\"]\n",
    "\n",
    "sample_success_a, sample_size_a = (camp_a_success, camp_a_opened)   # success = purchase,  numbers of observations (nobs) = opened  \n",
    "sample_success_b, sample_size_b = (camp_b_success, camp_b_opened)   # success = purchase,  numbers of observations (nobs) = opened\n",
    "\n",
    "successes = np.array([sample_success_a, sample_success_b])\n",
    "samples = np.array([sample_size_a, sample_size_b])\n",
    "\n",
    "stat, p_value = proportions_ztest(count=successes, nobs=samples,  alternative='smaller') # H0 is greater than OR equal "
   ]
  },
  {
   "cell_type": "code",
   "execution_count": 51,
   "id": "050fa664-8f25-4fa9-a541-35cc330635ab",
   "metadata": {},
   "outputs": [
    {
     "name": "stdout",
     "output_type": "stream",
     "text": [
      "z_stat: -1.688, p_value: 0.046\n",
      "p is low! THE NULL MUST GO! A was less successful than B\n"
     ]
    }
   ],
   "source": [
    "print('z_stat: %0.3f, p_value: %0.3f' % (stat, p_value))\n",
    "if p_value > significance:\n",
    "   print (\"p is not low.  Campaigns A and B were not different \")\n",
    "else:\n",
    "   print (\"p is low! THE NULL MUST GO! A was less successful than B\")"
   ]
  },
  {
   "cell_type": "code",
   "execution_count": null,
   "id": "3966ec34-f79d-47ac-a84a-bfe49a21d12a",
   "metadata": {},
   "outputs": [],
   "source": [
    "# it's close but still significant!! "
   ]
  }
 ],
 "metadata": {
  "kernelspec": {
   "display_name": "Python 3 (ipykernel)",
   "language": "python",
   "name": "python3"
  },
  "language_info": {
   "codemirror_mode": {
    "name": "ipython",
    "version": 3
   },
   "file_extension": ".py",
   "mimetype": "text/x-python",
   "name": "python",
   "nbconvert_exporter": "python",
   "pygments_lexer": "ipython3",
   "version": "3.9.7"
  }
 },
 "nbformat": 4,
 "nbformat_minor": 5
}
