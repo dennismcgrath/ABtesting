{
 "cells": [
  {
   "cell_type": "code",
   "execution_count": 14,
   "id": "b5ad9df4-b7c9-44da-b8e4-a83c8e2ed8cd",
   "metadata": {},
   "outputs": [],
   "source": [
    "from statsmodels.stats.proportion import proportions_ztest\n",
    "import numpy as np\n",
    "import pandas as pd\n",
    "from scipy.stats import ttest_ind, ttest_ind_from_stats\n",
    "import warnings\n",
    "warnings.filterwarnings('ignore')"
   ]
  },
  {
   "cell_type": "code",
   "execution_count": null,
   "id": "788e5b3a-1117-4cdd-bf23-84be30309893",
   "metadata": {},
   "outputs": [],
   "source": [
    "# when comparing AVERAGE money spent (not success rate) we'll use a t-test\n",
    "# a t-test compares A and B using 3 values:\n",
    "# 1) average of both groups\n",
    "# 2) standard deviation of both groups\n",
    "# 3) the number of samples in each group \n",
    "\n",
    "# in this case the number of samples is NOT the # of records\n",
    "# it is the number of customers who made a purchase as a result of the campaign\n"
   ]
  },
  {
   "cell_type": "code",
   "execution_count": 13,
   "id": "faf99209-5069-4640-8a8e-28bbda4ed77c",
   "metadata": {},
   "outputs": [],
   "source": [
    "# this is how we read data in Pandas. \n",
    "df_a=pd.read_csv(\"campaign_a.csv\")\n",
    "df_b=pd.read_csv(\"campaign_b.csv\")\n"
   ]
  },
  {
   "cell_type": "code",
   "execution_count": 3,
   "id": "04325ead-cb62-422d-b4a8-67555ac70631",
   "metadata": {},
   "outputs": [],
   "source": [
    "spec_chars = [ \"[\", \"]\"]    #gotta clean out the brackets from the dollars column\n",
    "for char in spec_chars:\n",
    "    df_a['dollars'] = df_a['dollars'].str.replace(char, '')\n",
    "    df_b['dollars'] = df_b['dollars'].str.replace(char, '')"
   ]
  },
  {
   "cell_type": "code",
   "execution_count": 4,
   "id": "7a7d1759-66fb-41b6-90da-94a63dcadbce",
   "metadata": {},
   "outputs": [],
   "source": [
    "significance = 0.05\n",
    "# again we set our alpha value to 5% - this is our doubt threshold"
   ]
  },
  {
   "cell_type": "code",
   "execution_count": 5,
   "id": "30918b5d-0a1d-4971-918b-779760f5e5bc",
   "metadata": {},
   "outputs": [
    {
     "name": "stdout",
     "output_type": "stream",
     "text": [
      "<class 'pandas.core.frame.DataFrame'>\n",
      "RangeIndex: 10686 entries, 0 to 10685\n",
      "Data columns (total 7 columns):\n",
      " #   Column     Non-Null Count  Dtype \n",
      "---  ------     --------------  ----- \n",
      " 0   campaign   10686 non-null  object\n",
      " 1   id         10686 non-null  int64 \n",
      " 2   opened     10686 non-null  int64 \n",
      " 3   clicked    10686 non-null  int64 \n",
      " 4   purchased  10686 non-null  int64 \n",
      " 5   dollars    10686 non-null  object\n",
      " 6   unsub      10686 non-null  int64 \n",
      "dtypes: int64(5), object(2)\n",
      "memory usage: 584.5+ KB\n"
     ]
    }
   ],
   "source": [
    "df_b.info()"
   ]
  },
  {
   "cell_type": "code",
   "execution_count": 6,
   "id": "9e3e4bbf-ac6d-4ac7-b030-1c29df8ab7d6",
   "metadata": {},
   "outputs": [],
   "source": [
    "df_a['dollars']=df_a['dollars'].astype(float)   # cast dollars column to float type\n",
    "df_b['dollars']=df_b['dollars'].astype(float)"
   ]
  },
  {
   "cell_type": "code",
   "execution_count": 7,
   "id": "bea6dc6b-7a31-42c6-9120-bacfd97bd174",
   "metadata": {},
   "outputs": [
    {
     "name": "stdout",
     "output_type": "stream",
     "text": [
      "65 96\n"
     ]
    }
   ],
   "source": [
    "nobs1=df_a[df_a[\"purchased\"]>0].count()[\"id\"]   #count the total rows that have at least one purchase\n",
    "nobs2=df_b[df_b[\"purchased\"]>0].count()[\"id\"]\n",
    "print(nobs1,nobs2)"
   ]
  },
  {
   "cell_type": "code",
   "execution_count": 8,
   "id": "f547f20b-2283-4540-af7f-a4d57516d400",
   "metadata": {},
   "outputs": [],
   "source": [
    "# next calculate average and standard deviation for dollars spent in each trial"
   ]
  },
  {
   "cell_type": "code",
   "execution_count": 9,
   "id": "d3bea319-cd74-49a0-9fa0-1f7842011fee",
   "metadata": {},
   "outputs": [
    {
     "name": "stdout",
     "output_type": "stream",
     "text": [
      "51.71307692307684 55.146249999999874\n"
     ]
    }
   ],
   "source": [
    "camp_a_average=df_a[df_a[\"purchased\"]>0].mean(numeric_only=True, skipna=True)[\"dollars\"]\n",
    "camp_b_average=df_b[df_b[\"purchased\"]>0].mean(numeric_only=True, skipna=True)[\"dollars\"]\n",
    "print (camp_a_average, camp_b_average)"
   ]
  },
  {
   "cell_type": "code",
   "execution_count": 10,
   "id": "0a97c818-390a-4b2c-b2a5-27e45f42a8bc",
   "metadata": {},
   "outputs": [
    {
     "name": "stdout",
     "output_type": "stream",
     "text": [
      "30.385290279749103 26.416632768808842\n"
     ]
    }
   ],
   "source": [
    "camp_a_std=df_a[df_a[\"purchased\"]>0].std(numeric_only=True, skipna=True)[\"dollars\"]\n",
    "camp_b_std=df_b[df_b[\"purchased\"]>0].std(numeric_only=True, skipna=True)[\"dollars\"]\n",
    "print (camp_a_std, camp_b_std)"
   ]
  },
  {
   "cell_type": "code",
   "execution_count": 19,
   "id": "75a0c3f4-3c6a-46b3-89e2-2ceeb9abf04e",
   "metadata": {},
   "outputs": [],
   "source": [
    "t, p =ttest_ind_from_stats(camp_a_average, camp_a_std, nobs1, camp_b_average, camp_b_std, nobs2, equal_var=False, alternative='less')"
   ]
  },
  {
   "cell_type": "code",
   "execution_count": 18,
   "id": "5ecce578-ee3b-407a-be7d-ab54eedc2df2",
   "metadata": {},
   "outputs": [
    {
     "name": "stdout",
     "output_type": "stream",
     "text": [
      "t_stat: -0.741, p_value: 0.460\n",
      "p is not low. A is not significantly less than B \n"
     ]
    }
   ],
   "source": [
    "print('t_stat: %0.3f, p_value: %0.3f' % (t, p))\n",
    "if p > significance:\n",
    "   print (\"p is not low. A is not significantly less than B \")\n",
    "else:\n",
    "   print (\"p is low! THE NULL MUST GO!  A is less than B\")"
   ]
  },
  {
   "cell_type": "code",
   "execution_count": null,
   "id": "ab582dc4-95b7-4af4-8750-4341262edd2e",
   "metadata": {},
   "outputs": [],
   "source": [
    " "
   ]
  },
  {
   "cell_type": "code",
   "execution_count": null,
   "id": "93939fce-ed75-4b88-880e-8c7940a495c6",
   "metadata": {},
   "outputs": [],
   "source": []
  },
  {
   "cell_type": "code",
   "execution_count": null,
   "id": "ed82c886-c5e0-4a55-bacc-a01aab77e3d6",
   "metadata": {},
   "outputs": [],
   "source": []
  }
 ],
 "metadata": {
  "kernelspec": {
   "display_name": "Python 3 (ipykernel)",
   "language": "python",
   "name": "python3"
  },
  "language_info": {
   "codemirror_mode": {
    "name": "ipython",
    "version": 3
   },
   "file_extension": ".py",
   "mimetype": "text/x-python",
   "name": "python",
   "nbconvert_exporter": "python",
   "pygments_lexer": "ipython3",
   "version": "3.9.7"
  }
 },
 "nbformat": 4,
 "nbformat_minor": 5
}
